{
 "cells": [
  {
   "cell_type": "code",
   "execution_count": 1,
   "id": "f1690c49",
   "metadata": {},
   "outputs": [],
   "source": [
    "import yfinance as yf"
   ]
  },
  {
   "cell_type": "code",
   "execution_count": 2,
   "id": "0667f480",
   "metadata": {},
   "outputs": [],
   "source": [
    "import pandas as pd\n",
    "import numpy as np\n",
    "import matplotlib.pyplot as plt"
   ]
  },
  {
   "cell_type": "code",
   "execution_count": 3,
   "id": "bedaeb3e",
   "metadata": {},
   "outputs": [],
   "source": [
    "tickers = [\"AMZN\"]"
   ]
  },
  {
   "cell_type": "code",
   "execution_count": 4,
   "id": "c8f4f714",
   "metadata": {},
   "outputs": [
    {
     "name": "stdout",
     "output_type": "stream",
     "text": [
      "[*********************100%***********************]  1 of 1 completed\n"
     ]
    },
    {
     "data": {
      "text/html": [
       "<div>\n",
       "<style scoped>\n",
       "    .dataframe tbody tr th:only-of-type {\n",
       "        vertical-align: middle;\n",
       "    }\n",
       "\n",
       "    .dataframe tbody tr th {\n",
       "        vertical-align: top;\n",
       "    }\n",
       "\n",
       "    .dataframe thead th {\n",
       "        text-align: right;\n",
       "    }\n",
       "</style>\n",
       "<table border=\"1\" class=\"dataframe\">\n",
       "  <thead>\n",
       "    <tr style=\"text-align: right;\">\n",
       "      <th></th>\n",
       "      <th>Open</th>\n",
       "      <th>High</th>\n",
       "      <th>Low</th>\n",
       "      <th>Close</th>\n",
       "      <th>Adj Close</th>\n",
       "      <th>Volume</th>\n",
       "    </tr>\n",
       "    <tr>\n",
       "      <th>Date</th>\n",
       "      <th></th>\n",
       "      <th></th>\n",
       "      <th></th>\n",
       "      <th></th>\n",
       "      <th></th>\n",
       "      <th></th>\n",
       "    </tr>\n",
       "  </thead>\n",
       "  <tbody>\n",
       "    <tr>\n",
       "      <th>2015-01-02</th>\n",
       "      <td>15.629000</td>\n",
       "      <td>15.737500</td>\n",
       "      <td>15.348000</td>\n",
       "      <td>15.426000</td>\n",
       "      <td>15.426000</td>\n",
       "      <td>55664000</td>\n",
       "    </tr>\n",
       "    <tr>\n",
       "      <th>2015-01-05</th>\n",
       "      <td>15.350500</td>\n",
       "      <td>15.419000</td>\n",
       "      <td>15.042500</td>\n",
       "      <td>15.109500</td>\n",
       "      <td>15.109500</td>\n",
       "      <td>55484000</td>\n",
       "    </tr>\n",
       "    <tr>\n",
       "      <th>2015-01-06</th>\n",
       "      <td>15.112000</td>\n",
       "      <td>15.150000</td>\n",
       "      <td>14.619000</td>\n",
       "      <td>14.764500</td>\n",
       "      <td>14.764500</td>\n",
       "      <td>70380000</td>\n",
       "    </tr>\n",
       "    <tr>\n",
       "      <th>2015-01-07</th>\n",
       "      <td>14.875000</td>\n",
       "      <td>15.064000</td>\n",
       "      <td>14.766500</td>\n",
       "      <td>14.921000</td>\n",
       "      <td>14.921000</td>\n",
       "      <td>52806000</td>\n",
       "    </tr>\n",
       "    <tr>\n",
       "      <th>2015-01-08</th>\n",
       "      <td>15.016000</td>\n",
       "      <td>15.157000</td>\n",
       "      <td>14.805500</td>\n",
       "      <td>15.023000</td>\n",
       "      <td>15.023000</td>\n",
       "      <td>61768000</td>\n",
       "    </tr>\n",
       "    <tr>\n",
       "      <th>...</th>\n",
       "      <td>...</td>\n",
       "      <td>...</td>\n",
       "      <td>...</td>\n",
       "      <td>...</td>\n",
       "      <td>...</td>\n",
       "      <td>...</td>\n",
       "    </tr>\n",
       "    <tr>\n",
       "      <th>2023-04-17</th>\n",
       "      <td>103.160004</td>\n",
       "      <td>103.730003</td>\n",
       "      <td>101.589996</td>\n",
       "      <td>102.739998</td>\n",
       "      <td>102.739998</td>\n",
       "      <td>39919500</td>\n",
       "    </tr>\n",
       "    <tr>\n",
       "      <th>2023-04-18</th>\n",
       "      <td>103.949997</td>\n",
       "      <td>104.199997</td>\n",
       "      <td>101.519997</td>\n",
       "      <td>102.300003</td>\n",
       "      <td>102.300003</td>\n",
       "      <td>39790500</td>\n",
       "    </tr>\n",
       "    <tr>\n",
       "      <th>2023-04-19</th>\n",
       "      <td>101.580002</td>\n",
       "      <td>105.120003</td>\n",
       "      <td>101.389999</td>\n",
       "      <td>104.300003</td>\n",
       "      <td>104.300003</td>\n",
       "      <td>58398900</td>\n",
       "    </tr>\n",
       "    <tr>\n",
       "      <th>2023-04-20</th>\n",
       "      <td>103.529999</td>\n",
       "      <td>105.250000</td>\n",
       "      <td>103.209999</td>\n",
       "      <td>103.809998</td>\n",
       "      <td>103.809998</td>\n",
       "      <td>57696900</td>\n",
       "    </tr>\n",
       "    <tr>\n",
       "      <th>2023-04-21</th>\n",
       "      <td>106.099998</td>\n",
       "      <td>108.150002</td>\n",
       "      <td>105.080002</td>\n",
       "      <td>106.959999</td>\n",
       "      <td>106.959999</td>\n",
       "      <td>86689700</td>\n",
       "    </tr>\n",
       "  </tbody>\n",
       "</table>\n",
       "<p>2090 rows × 6 columns</p>\n",
       "</div>"
      ],
      "text/plain": [
       "                  Open        High         Low       Close   Adj Close  \\\n",
       "Date                                                                     \n",
       "2015-01-02   15.629000   15.737500   15.348000   15.426000   15.426000   \n",
       "2015-01-05   15.350500   15.419000   15.042500   15.109500   15.109500   \n",
       "2015-01-06   15.112000   15.150000   14.619000   14.764500   14.764500   \n",
       "2015-01-07   14.875000   15.064000   14.766500   14.921000   14.921000   \n",
       "2015-01-08   15.016000   15.157000   14.805500   15.023000   15.023000   \n",
       "...                ...         ...         ...         ...         ...   \n",
       "2023-04-17  103.160004  103.730003  101.589996  102.739998  102.739998   \n",
       "2023-04-18  103.949997  104.199997  101.519997  102.300003  102.300003   \n",
       "2023-04-19  101.580002  105.120003  101.389999  104.300003  104.300003   \n",
       "2023-04-20  103.529999  105.250000  103.209999  103.809998  103.809998   \n",
       "2023-04-21  106.099998  108.150002  105.080002  106.959999  106.959999   \n",
       "\n",
       "              Volume  \n",
       "Date                  \n",
       "2015-01-02  55664000  \n",
       "2015-01-05  55484000  \n",
       "2015-01-06  70380000  \n",
       "2015-01-07  52806000  \n",
       "2015-01-08  61768000  \n",
       "...              ...  \n",
       "2023-04-17  39919500  \n",
       "2023-04-18  39790500  \n",
       "2023-04-19  58398900  \n",
       "2023-04-20  57696900  \n",
       "2023-04-21  86689700  \n",
       "\n",
       "[2090 rows x 6 columns]"
      ]
     },
     "execution_count": 4,
     "metadata": {},
     "output_type": "execute_result"
    }
   ],
   "source": [
    "data = yf.download(tickers,start = \"2015-01-01\")\n",
    "data"
   ]
  },
  {
   "cell_type": "code",
   "execution_count": 5,
   "id": "34f02268",
   "metadata": {},
   "outputs": [
    {
     "name": "stdout",
     "output_type": "stream",
     "text": [
      "<class 'pandas.core.frame.DataFrame'>\n",
      "DatetimeIndex: 2090 entries, 2015-01-02 to 2023-04-21\n",
      "Data columns (total 6 columns):\n",
      " #   Column     Non-Null Count  Dtype  \n",
      "---  ------     --------------  -----  \n",
      " 0   Open       2090 non-null   float64\n",
      " 1   High       2090 non-null   float64\n",
      " 2   Low        2090 non-null   float64\n",
      " 3   Close      2090 non-null   float64\n",
      " 4   Adj Close  2090 non-null   float64\n",
      " 5   Volume     2090 non-null   int64  \n",
      "dtypes: float64(5), int64(1)\n",
      "memory usage: 114.3 KB\n"
     ]
    }
   ],
   "source": [
    "data.info()"
   ]
  },
  {
   "cell_type": "markdown",
   "id": "2e913d9f",
   "metadata": {},
   "source": [
    "# Calculating Stock Returns"
   ]
  },
  {
   "cell_type": "markdown",
   "id": "4a03fb9e",
   "metadata": {},
   "source": [
    "# Daily returns"
   ]
  },
  {
   "cell_type": "code",
   "execution_count": 6,
   "id": "f22ce954",
   "metadata": {},
   "outputs": [],
   "source": [
    "daily_returns = data['Adj Close'].pct_change()"
   ]
  },
  {
   "cell_type": "code",
   "execution_count": 7,
   "id": "253e6e31",
   "metadata": {},
   "outputs": [],
   "source": [
    "total_returns = (1 + daily_returns).cumprod() - 1"
   ]
  },
  {
   "cell_type": "code",
   "execution_count": 8,
   "id": "8ca6a989",
   "metadata": {
    "scrolled": true
   },
   "outputs": [
    {
     "name": "stdout",
     "output_type": "stream",
     "text": [
      "Date\n",
      "2015-01-02         NaN\n",
      "2015-01-05   -0.020517\n",
      "2015-01-06   -0.042882\n",
      "2015-01-07   -0.032737\n",
      "2015-01-08   -0.026125\n",
      "                ...   \n",
      "2023-04-17    5.660184\n",
      "2023-04-18    5.631661\n",
      "2023-04-19    5.761312\n",
      "2023-04-20    5.729548\n",
      "2023-04-21    5.933748\n",
      "Name: Adj Close, Length: 2090, dtype: float64\n"
     ]
    }
   ],
   "source": [
    "print(total_returns)"
   ]
  },
  {
   "cell_type": "code",
   "execution_count": 9,
   "id": "ce660fe6",
   "metadata": {},
   "outputs": [
    {
     "data": {
      "image/png": "[encoded data removed]",
      "text/plain": [
       "<Figure size 432x288 with 1 Axes>"
      ]
     },
     "metadata": {
      "needs_background": "light"
     },
     "output_type": "display_data"
    }
   ],
   "source": [
    "# Ploting\n",
    "plt.plot(daily_returns)\n",
    "plt.xlabel('Date')\n",
    "plt.ylabel('daily Returns')\n",
    "plt.title('daily Returns For Amazon')\n",
    "plt.show()"
   ]
  },
  {
   "cell_type": "markdown",
   "id": "8e41d547",
   "metadata": {},
   "source": [
    "# Annual returns per ever year"
   ]
  },
  {
   "cell_type": "code",
   "execution_count": 10,
   "id": "979cdadf",
   "metadata": {},
   "outputs": [],
   "source": [
    "annual_data = data['Adj Close'].resample('Y').last()"
   ]
  },
  {
   "cell_type": "code",
   "execution_count": 11,
   "id": "b95a8736",
   "metadata": {},
   "outputs": [],
   "source": [
    "annual_returns = annual_data.pct_change()"
   ]
  },
  {
   "cell_type": "code",
   "execution_count": 12,
   "id": "46765662",
   "metadata": {
    "scrolled": true
   },
   "outputs": [
    {
     "name": "stdout",
     "output_type": "stream",
     "text": [
      "Date\n",
      "2015-12-31         NaN\n",
      "2016-12-31    0.109456\n",
      "2017-12-31    0.559564\n",
      "2018-12-31    0.284317\n",
      "2019-12-31    0.230277\n",
      "2020-12-31    0.762561\n",
      "2021-12-31    0.023768\n",
      "2022-12-31   -0.496152\n",
      "2023-12-31    0.273333\n",
      "Freq: A-DEC, Name: Adj Close, dtype: float64\n"
     ]
    }
   ],
   "source": [
    "print(annual_returns)"
   ]
  },
  {
   "cell_type": "code",
   "execution_count": 13,
   "id": "a9c5d3e7",
   "metadata": {},
   "outputs": [
    {
     "data": {
      "image/png": "[encoded data removed]",
      "text/plain": [
       "<Figure size 432x288 with 1 Axes>"
      ]
     },
     "metadata": {
      "needs_background": "light"
     },
     "output_type": "display_data"
    }
   ],
   "source": [
    "# Ploting\n",
    "plt.plot(annual_returns)\n",
    "plt.xlabel('Date')\n",
    "plt.ylabel('Annual Returns')\n",
    "plt.title('Annual Returns For Amazon')\n",
    "plt.show()"
   ]
  },
  {
   "cell_type": "markdown",
   "id": "7d9a8582",
   "metadata": {},
   "source": [
    "# Weekly returns "
   ]
  },
  {
   "cell_type": "code",
   "execution_count": 14,
   "id": "08fd3dae",
   "metadata": {},
   "outputs": [],
   "source": [
    "weekly_data = data['Adj Close'].resample('W').last()"
   ]
  },
  {
   "cell_type": "code",
   "execution_count": 15,
   "id": "f1f707a7",
   "metadata": {},
   "outputs": [],
   "source": [
    "weekly_returns = weekly_data.pct_change()"
   ]
  },
  {
   "cell_type": "code",
   "execution_count": 16,
   "id": "9c368724",
   "metadata": {},
   "outputs": [
    {
     "name": "stdout",
     "output_type": "stream",
     "text": [
      "Date\n",
      "2015-01-04         NaN\n",
      "2015-01-11   -0.037566\n",
      "2015-01-18   -0.020847\n",
      "2015-01-25    0.074465\n",
      "2015-02-01    0.134895\n",
      "                ...   \n",
      "2023-03-26   -0.008287\n",
      "2023-04-02    0.052583\n",
      "2023-04-09   -0.011908\n",
      "2023-04-16    0.004409\n",
      "2023-04-23    0.043410\n",
      "Freq: W-SUN, Name: Adj Close, Length: 434, dtype: float64\n"
     ]
    }
   ],
   "source": [
    "print(weekly_returns)"
   ]
  },
  {
   "cell_type": "code",
   "execution_count": 17,
   "id": "1b55844c",
   "metadata": {},
   "outputs": [
    {
     "data": {
      "image/png": "[encoded data removed]",
      "text/plain": [
       "<Figure size 432x288 with 1 Axes>"
      ]
     },
     "metadata": {
      "needs_background": "light"
     },
     "output_type": "display_data"
    }
   ],
   "source": [
    "# Ploting\n",
    "plt.plot(weekly_returns)\n",
    "plt.xlabel('Date')\n",
    "plt.ylabel('Weekly Returns')\n",
    "plt.title('Weekly Returns For Amazon')\n",
    "plt.show()\n"
   ]
  },
  {
   "cell_type": "markdown",
   "id": "6e3b36bf",
   "metadata": {},
   "source": [
    "# Total Returns From Starting to Till Now"
   ]
  },
  {
   "cell_type": "code",
   "execution_count": 18,
   "id": "1bc1d2f3",
   "metadata": {},
   "outputs": [],
   "source": [
    "start_date = '2015-01-02'\n",
    "end_date  = pd.Timestamp.today().strftime('%Y-%M-%d')"
   ]
  },
  {
   "cell_type": "code",
   "execution_count": 19,
   "id": "6b5b7137",
   "metadata": {},
   "outputs": [],
   "source": [
    "total_returns = (data['Adj Close'][-1] - data['Adj Close'][0]) / data['Adj Close'][0] * 100\n"
   ]
  },
  {
   "cell_type": "code",
   "execution_count": 20,
   "id": "4cfe1367",
   "metadata": {},
   "outputs": [
    {
     "name": "stdout",
     "output_type": "stream",
     "text": [
      "Total returns for Amazon from 2015-01-02 to 2023-13-24: 593.37%\n"
     ]
    }
   ],
   "source": [
    "print(f'Total returns for Amazon from {start_date} to {end_date}: {total_returns:.2f}%')\n"
   ]
  },
  {
   "cell_type": "code",
   "execution_count": null,
   "id": "0106bffb",
   "metadata": {},
   "outputs": [],
   "source": []
  }
 ],
 "metadata": {
  "kernelspec": {
   "display_name": "Python 3 (ipykernel)",
   "language": "python",
   "name": "python3"
  },
  "language_info": {
   "codemirror_mode": {
    "name": "ipython",
    "version": 3
   },
   "file_extension": ".py",
   "mimetype": "text/x-python",
   "name": "python",
   "nbconvert_exporter": "python",
   "pygments_lexer": "ipython3",
   "version": "3.9.12"
  }
 },
 "nbformat": 4,
 "nbformat_minor": 5
}
