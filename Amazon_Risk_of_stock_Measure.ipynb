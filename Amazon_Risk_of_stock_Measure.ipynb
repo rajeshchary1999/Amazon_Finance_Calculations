{
 "cells": [
  {
   "cell_type": "code",
   "execution_count": 1,
   "id": "71ed2f04",
   "metadata": {},
   "outputs": [],
   "source": [
    "import yfinance as yf"
   ]
  },
  {
   "cell_type": "code",
   "execution_count": 2,
   "id": "97797cb8",
   "metadata": {},
   "outputs": [],
   "source": [
    "import pandas as pd\n",
    "import numpy as np\n",
    "import matplotlib.pyplot as plt"
   ]
  },
  {
   "cell_type": "code",
   "execution_count": 3,
   "id": "e645c4d1",
   "metadata": {},
   "outputs": [],
   "source": [
    "tickers = [\"AMZN\"]"
   ]
  },
  {
   "cell_type": "code",
   "execution_count": 4,
   "id": "c3553bb1",
   "metadata": {},
   "outputs": [
    {
     "name": "stdout",
     "output_type": "stream",
     "text": [
      "[*********************100%***********************]  1 of 1 completed\n"
     ]
    },
    {
     "data": {
      "text/html": [
       "<div>\n",
       "<style scoped>\n",
       "    .dataframe tbody tr th:only-of-type {\n",
       "        vertical-align: middle;\n",
       "    }\n",
       "\n",
       "    .dataframe tbody tr th {\n",
       "        vertical-align: top;\n",
       "    }\n",
       "\n",
       "    .dataframe thead th {\n",
       "        text-align: right;\n",
       "    }\n",
       "</style>\n",
       "<table border=\"1\" class=\"dataframe\">\n",
       "  <thead>\n",
       "    <tr style=\"text-align: right;\">\n",
       "      <th></th>\n",
       "      <th>Open</th>\n",
       "      <th>High</th>\n",
       "      <th>Low</th>\n",
       "      <th>Close</th>\n",
       "      <th>Adj Close</th>\n",
       "      <th>Volume</th>\n",
       "    </tr>\n",
       "    <tr>\n",
       "      <th>Date</th>\n",
       "      <th></th>\n",
       "      <th></th>\n",
       "      <th></th>\n",
       "      <th></th>\n",
       "      <th></th>\n",
       "      <th></th>\n",
       "    </tr>\n",
       "  </thead>\n",
       "  <tbody>\n",
       "    <tr>\n",
       "      <th>2015-01-02</th>\n",
       "      <td>15.629000</td>\n",
       "      <td>15.737500</td>\n",
       "      <td>15.348000</td>\n",
       "      <td>15.426000</td>\n",
       "      <td>15.426000</td>\n",
       "      <td>55664000</td>\n",
       "    </tr>\n",
       "    <tr>\n",
       "      <th>2015-01-05</th>\n",
       "      <td>15.350500</td>\n",
       "      <td>15.419000</td>\n",
       "      <td>15.042500</td>\n",
       "      <td>15.109500</td>\n",
       "      <td>15.109500</td>\n",
       "      <td>55484000</td>\n",
       "    </tr>\n",
       "    <tr>\n",
       "      <th>2015-01-06</th>\n",
       "      <td>15.112000</td>\n",
       "      <td>15.150000</td>\n",
       "      <td>14.619000</td>\n",
       "      <td>14.764500</td>\n",
       "      <td>14.764500</td>\n",
       "      <td>70380000</td>\n",
       "    </tr>\n",
       "    <tr>\n",
       "      <th>2015-01-07</th>\n",
       "      <td>14.875000</td>\n",
       "      <td>15.064000</td>\n",
       "      <td>14.766500</td>\n",
       "      <td>14.921000</td>\n",
       "      <td>14.921000</td>\n",
       "      <td>52806000</td>\n",
       "    </tr>\n",
       "    <tr>\n",
       "      <th>2015-01-08</th>\n",
       "      <td>15.016000</td>\n",
       "      <td>15.157000</td>\n",
       "      <td>14.805500</td>\n",
       "      <td>15.023000</td>\n",
       "      <td>15.023000</td>\n",
       "      <td>61768000</td>\n",
       "    </tr>\n",
       "    <tr>\n",
       "      <th>...</th>\n",
       "      <td>...</td>\n",
       "      <td>...</td>\n",
       "      <td>...</td>\n",
       "      <td>...</td>\n",
       "      <td>...</td>\n",
       "      <td>...</td>\n",
       "    </tr>\n",
       "    <tr>\n",
       "      <th>2023-04-17</th>\n",
       "      <td>103.160004</td>\n",
       "      <td>103.730003</td>\n",
       "      <td>101.589996</td>\n",
       "      <td>102.739998</td>\n",
       "      <td>102.739998</td>\n",
       "      <td>39919500</td>\n",
       "    </tr>\n",
       "    <tr>\n",
       "      <th>2023-04-18</th>\n",
       "      <td>103.949997</td>\n",
       "      <td>104.199997</td>\n",
       "      <td>101.519997</td>\n",
       "      <td>102.300003</td>\n",
       "      <td>102.300003</td>\n",
       "      <td>39790500</td>\n",
       "    </tr>\n",
       "    <tr>\n",
       "      <th>2023-04-19</th>\n",
       "      <td>101.580002</td>\n",
       "      <td>105.120003</td>\n",
       "      <td>101.389999</td>\n",
       "      <td>104.300003</td>\n",
       "      <td>104.300003</td>\n",
       "      <td>58398900</td>\n",
       "    </tr>\n",
       "    <tr>\n",
       "      <th>2023-04-20</th>\n",
       "      <td>103.529999</td>\n",
       "      <td>105.250000</td>\n",
       "      <td>103.209999</td>\n",
       "      <td>103.809998</td>\n",
       "      <td>103.809998</td>\n",
       "      <td>57696900</td>\n",
       "    </tr>\n",
       "    <tr>\n",
       "      <th>2023-04-21</th>\n",
       "      <td>106.099998</td>\n",
       "      <td>108.150002</td>\n",
       "      <td>105.080002</td>\n",
       "      <td>106.959999</td>\n",
       "      <td>106.959999</td>\n",
       "      <td>86689700</td>\n",
       "    </tr>\n",
       "  </tbody>\n",
       "</table>\n",
       "<p>2090 rows × 6 columns</p>\n",
       "</div>"
      ],
      "text/plain": [
       "                  Open        High         Low       Close   Adj Close  \\\n",
       "Date                                                                     \n",
       "2015-01-02   15.629000   15.737500   15.348000   15.426000   15.426000   \n",
       "2015-01-05   15.350500   15.419000   15.042500   15.109500   15.109500   \n",
       "2015-01-06   15.112000   15.150000   14.619000   14.764500   14.764500   \n",
       "2015-01-07   14.875000   15.064000   14.766500   14.921000   14.921000   \n",
       "2015-01-08   15.016000   15.157000   14.805500   15.023000   15.023000   \n",
       "...                ...         ...         ...         ...         ...   \n",
       "2023-04-17  103.160004  103.730003  101.589996  102.739998  102.739998   \n",
       "2023-04-18  103.949997  104.199997  101.519997  102.300003  102.300003   \n",
       "2023-04-19  101.580002  105.120003  101.389999  104.300003  104.300003   \n",
       "2023-04-20  103.529999  105.250000  103.209999  103.809998  103.809998   \n",
       "2023-04-21  106.099998  108.150002  105.080002  106.959999  106.959999   \n",
       "\n",
       "              Volume  \n",
       "Date                  \n",
       "2015-01-02  55664000  \n",
       "2015-01-05  55484000  \n",
       "2015-01-06  70380000  \n",
       "2015-01-07  52806000  \n",
       "2015-01-08  61768000  \n",
       "...              ...  \n",
       "2023-04-17  39919500  \n",
       "2023-04-18  39790500  \n",
       "2023-04-19  58398900  \n",
       "2023-04-20  57696900  \n",
       "2023-04-21  86689700  \n",
       "\n",
       "[2090 rows x 6 columns]"
      ]
     },
     "execution_count": 4,
     "metadata": {},
     "output_type": "execute_result"
    }
   ],
   "source": [
    "data = yf.download(tickers,start = \"2015-01-01\")\n",
    "data"
   ]
  },
  {
   "cell_type": "markdown",
   "id": "d4a84373",
   "metadata": {},
   "source": [
    "# To calculate the total risk of amazon stock we can use standard deviation"
   ]
  },
  {
   "cell_type": "code",
   "execution_count": 5,
   "id": "7556834d",
   "metadata": {},
   "outputs": [],
   "source": [
    "start_date = '2015-01-01'\n",
    "end_date  = pd.Timestamp.today().strftime('%Y-%M-%d')"
   ]
  },
  {
   "cell_type": "code",
   "execution_count": 6,
   "id": "57ba8168",
   "metadata": {},
   "outputs": [],
   "source": [
    "daily_returns = data['Adj Close'].pct_change()"
   ]
  },
  {
   "cell_type": "code",
   "execution_count": 7,
   "id": "24fe82d7",
   "metadata": {},
   "outputs": [],
   "source": [
    "# Calculate the risk (standard deviation of returns)\n",
    "risk = daily_returns.std()"
   ]
  },
  {
   "cell_type": "code",
   "execution_count": 9,
   "id": "e98fd779",
   "metadata": {},
   "outputs": [
    {
     "name": "stdout",
     "output_type": "stream",
     "text": [
      "Risk of Amazon: 0.02\n"
     ]
    }
   ],
   "source": [
    "# Print the risk\n",
    "print(f'Risk of Amazon: {risk:.2f}')"
   ]
  },
  {
   "cell_type": "markdown",
   "id": "091d5026",
   "metadata": {},
   "source": [
    "* Value of 0.02 indicates that the stock or portfolio has a low level of risk, as it means that the daily returns are relatively stable and consistent."
   ]
  },
  {
   "cell_type": "code",
   "execution_count": null,
   "id": "bcdcb57e",
   "metadata": {},
   "outputs": [],
   "source": []
  }
 ],
 "metadata": {
  "kernelspec": {
   "display_name": "Python 3 (ipykernel)",
   "language": "python",
   "name": "python3"
  },
  "language_info": {
   "codemirror_mode": {
    "name": "ipython",
    "version": 3
   },
   "file_extension": ".py",
   "mimetype": "text/x-python",
   "name": "python",
   "nbconvert_exporter": "python",
   "pygments_lexer": "ipython3",
   "version": "3.9.12"
  }
 },
 "nbformat": 4,
 "nbformat_minor": 5
}
